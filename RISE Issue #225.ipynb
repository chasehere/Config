{
 "cells": [
  {
   "cell_type": "code",
   "execution_count": 22,
   "metadata": {
    "collapsed": false,
    "livereveal": {
     "theme": "elynx",
     "transition": "zoom"
    },
    "slideshow": {
     "slide_type": "skip"
    }
   },
   "outputs": [
    {
     "data": {
      "text/plain": [
       "{'start_slideshow_at': 'selected', 'theme': 'beige', 'transition': 'convex'}"
      ]
     },
     "execution_count": 22,
     "metadata": {},
     "output_type": "execute_result"
    }
   ],
   "source": [
    "from traitlets.config.manager import BaseJSONConfigManager\n",
    "path = \"C:/Anaconda3/etc/jupyter\"\n",
    "cm = BaseJSONConfigManager(config_dir=path)\n",
    "cm.update('livereveal', {\n",
    "              'theme': 'beige',\n",
    "              'transition': 'convex',\n",
    "              'start_slideshow_at': 'selected',\n",
    "})"
   ]
  },
  {
   "cell_type": "markdown",
   "metadata": {
    "collapsed": true,
    "nbpresent": {
     "id": "d41db0ff-1cf0-4b78-a8e4-b2ac79d276ff"
    },
    "slideshow": {
     "slide_type": "slide"
    }
   },
   "source": [
    "# RISE Issue #225\n",
    "\n",
    "The sky theme works the first time I use slideshow, but not the second time.  I have to reload to get it back."
   ]
  },
  {
   "cell_type": "code",
   "execution_count": 23,
   "metadata": {
    "collapsed": false,
    "nbpresent": {
     "id": "042cd618-e9d9-411d-a672-b831f34b07e3"
    },
    "slideshow": {
     "slide_type": "-"
    }
   },
   "outputs": [
    {
     "data": {
      "text/html": [
       "<script>\n",
       "code_show=true; \n",
       "function code_toggle() {\n",
       " if (code_show){\n",
       " $('div.input').hide();\n",
       " } else {\n",
       " $('div.input').show();\n",
       " }\n",
       " code_show = !code_show\n",
       "} \n",
       "$( document ).ready(code_toggle);\n",
       "</script>\n",
       "<form action=\"javascript:code_toggle()\"><input type=\"submit\" value=\"Click here to toggle on/off the raw code.\"></form>"
      ],
      "text/plain": [
       "<IPython.core.display.HTML object>"
      ]
     },
     "execution_count": 23,
     "metadata": {},
     "output_type": "execute_result"
    }
   ],
   "source": [
    "from IPython.display import HTML \n",
    "HTML('''<script>\n",
    "code_show=true; \n",
    "function code_toggle() {\n",
    " if (code_show){\n",
    " $('div.input').hide();\n",
    " } else {\n",
    " $('div.input').show();\n",
    " }\n",
    " code_show = !code_show\n",
    "} \n",
    "$( document ).ready(code_toggle);\n",
    "</script>\n",
    "<form action=\"javascript:code_toggle()\"><input type=\"submit\" value=\"Click here to toggle on/off the raw code.\"></form>''')"
   ]
  },
  {
   "cell_type": "code",
   "execution_count": 6,
   "metadata": {
    "collapsed": false,
    "nbpresent": {
     "id": "871a0d58-1cb2-4f98-a246-380305f954c8"
    },
    "slideshow": {
     "slide_type": "skip"
    }
   },
   "outputs": [],
   "source": [
    "# Dependencies\n",
    "import numpy as np\n",
    "import pandas as pd\n",
    "import datetime\n",
    "import matplotlib.pyplot as plt\n",
    "import matplotlib.ticker as ticker\n",
    "from scipy import stats\n",
    "%matplotlib inline\n",
    "\n",
    "# pandas options\n",
    "pd.set_option('display.max_columns', 40)\n",
    "pd.set_option('chained_assignment',None)"
   ]
  },
  {
   "cell_type": "markdown",
   "metadata": {
    "slideshow": {
     "slide_type": "slide"
    }
   },
   "source": [
    "# Header 1"
   ]
  },
  {
   "cell_type": "markdown",
   "metadata": {
    "slideshow": {
     "slide_type": "subslide"
    }
   },
   "source": [
    "## Header 2\n"
   ]
  },
  {
   "cell_type": "markdown",
   "metadata": {
    "slideshow": {
     "slide_type": "subslide"
    }
   },
   "source": [
    "### Header 3"
   ]
  }
 ],
 "metadata": {
  "anaconda-cloud": {},
  "celltoolbar": "Slideshow",
  "kernelspec": {
   "display_name": "Python [Root]",
   "language": "python",
   "name": "Python [Root]"
  },
  "language_info": {
   "codemirror_mode": {
    "name": "ipython",
    "version": 3
   },
   "file_extension": ".py",
   "mimetype": "text/x-python",
   "name": "python",
   "nbconvert_exporter": "python",
   "pygments_lexer": "ipython3",
   "version": "3.5.2"
  },
  "nbpresent": {
   "slides": {
    "038b7cae-eeda-4c34-82fa-2764860d62b7": {
     "id": "038b7cae-eeda-4c34-82fa-2764860d62b7",
     "prev": "ddb8fed1-fb4b-4459-a22c-a6871946ab2e",
     "regions": {
      "20ec6aa1-8865-4214-8b05-d3ea91f02561": {
       "attrs": {
        "height": 0.8,
        "width": 0.8,
        "x": 0.1,
        "y": 0.1
       },
       "content": {
        "cell": "c03e7047-8019-4d2e-9fa5-61e83239b2f0",
        "part": "whole"
       },
       "id": "20ec6aa1-8865-4214-8b05-d3ea91f02561"
      },
      "a91bfa7d-2f18-435f-9c55-deec6f708f09": {
       "attrs": {
        "height": 0.4,
        "width": 0.8,
        "x": 0.1,
        "y": 0.5
       },
       "content": {
        "cell": "7c13389f-b191-4cc3-9c00-6a37fa91a4d7",
        "part": "whole"
       },
       "id": "a91bfa7d-2f18-435f-9c55-deec6f708f09"
      }
     }
    },
    "1bb65df1-1ca0-4bb0-93a1-f0dfe0cc998c": {
     "id": "1bb65df1-1ca0-4bb0-93a1-f0dfe0cc998c",
     "prev": "558c3ebd-89d6-45d4-970d-2573991e123b",
     "regions": {
      "2601584d-919a-4678-ac7a-c318f6e930dc": {
       "attrs": {
        "height": 0.8,
        "width": 0.8,
        "x": 0.1,
        "y": 0.1
       },
       "content": {
        "cell": "18f5fb24-d8fb-4c6f-9aa0-ca14b507d598",
        "part": "whole"
       },
       "id": "2601584d-919a-4678-ac7a-c318f6e930dc"
      }
     }
    },
    "22febf45-f60c-4650-a981-fd68af1c6e74": {
     "id": "22febf45-f60c-4650-a981-fd68af1c6e74",
     "prev": "1bb65df1-1ca0-4bb0-93a1-f0dfe0cc998c",
     "regions": {
      "7272e1bb-7aed-42bb-8d25-1378bb49f757": {
       "attrs": {
        "height": 0.4,
        "width": 0.8,
        "x": 0.1,
        "y": 0.5
       },
       "content": {
        "cell": "48a62876-314e-4f11-bcb4-8dc5cc565140",
        "part": "whole"
       },
       "id": "7272e1bb-7aed-42bb-8d25-1378bb49f757"
      },
      "ff77ce11-89c3-4b47-8bbb-bfc1fdd56edb": {
       "attrs": {
        "height": 0.8,
        "width": 0.8,
        "x": 0.1,
        "y": 0.1
       },
       "content": {
        "cell": "2833b757-ea3b-4eaa-9b36-0ff78854c4c6",
        "part": "whole"
       },
       "id": "ff77ce11-89c3-4b47-8bbb-bfc1fdd56edb"
      }
     }
    },
    "23cf565e-56ce-494e-92c0-ffcee8bc8d4a": {
     "id": "23cf565e-56ce-494e-92c0-ffcee8bc8d4a",
     "prev": "e15b81bc-fb7f-418a-ac0a-8423090307be",
     "regions": {
      "576a8838-357a-4c6f-ad2f-1fde8e916eee": {
       "attrs": {
        "height": 0.4,
        "width": 0.8,
        "x": 0.1,
        "y": 0.5
       },
       "content": {
        "cell": "ece0ce5e-4ad5-448f-9014-52a67b3142f9",
        "part": "whole"
       },
       "id": "576a8838-357a-4c6f-ad2f-1fde8e916eee"
      },
      "b5fe02e2-aa7b-47f6-a733-3f1718a14a20": {
       "attrs": {
        "height": 0.8,
        "width": 0.8,
        "x": 0.1,
        "y": 0.1
       },
       "content": {
        "cell": "a30ed005-ae57-4296-81c2-aea9d270dd37",
        "part": "whole"
       },
       "id": "b5fe02e2-aa7b-47f6-a733-3f1718a14a20"
      }
     }
    },
    "25c8bb83-5817-4ab1-a77d-90168b993235": {
     "id": "25c8bb83-5817-4ab1-a77d-90168b993235",
     "prev": "af33f0a5-fd2e-4b48-97e1-bd6393e4c329",
     "regions": {
      "6823e29d-0c04-45a2-a937-75fcb7b669e5": {
       "attrs": {
        "height": 0.8,
        "width": 0.8,
        "x": 0.1,
        "y": 0.1
       },
       "content": {
        "cell": "98a4924a-5240-4e75-86a1-96df013fe3a5",
        "part": "whole"
       },
       "id": "6823e29d-0c04-45a2-a937-75fcb7b669e5"
      },
      "7c8252ff-b718-4605-bae3-838d26328a80": {
       "attrs": {
        "height": 0.4,
        "width": 0.8,
        "x": 0.1,
        "y": 0.5
       },
       "content": {
        "cell": "bbc0e7fa-8c58-482c-869d-522b04b9e255",
        "part": "whole"
       },
       "id": "7c8252ff-b718-4605-bae3-838d26328a80"
      }
     }
    },
    "2c2a2253-fb0a-40fe-9af9-c5a392a6fece": {
     "id": "2c2a2253-fb0a-40fe-9af9-c5a392a6fece",
     "prev": "820de2f9-beb4-41f8-af89-3c1c9c425c22",
     "regions": {
      "6f4f9296-0029-4bce-ab25-5f73ab976e90": {
       "attrs": {
        "height": 0.4,
        "width": 0.8,
        "x": 0.1,
        "y": 0.5
       },
       "content": {
        "cell": "e4d9e803-65f7-464c-a19b-f92d0417ea8b",
        "part": "whole"
       },
       "id": "6f4f9296-0029-4bce-ab25-5f73ab976e90"
      },
      "86972084-c910-4dd5-9148-f5aa56842df5": {
       "attrs": {
        "height": 0.4,
        "width": 0.8,
        "x": 0.1,
        "y": 0.5
       },
       "content": {
        "cell": "9ebf4ed1-2e53-46b6-ade1-ece2d33fec18",
        "part": "whole"
       },
       "id": "86972084-c910-4dd5-9148-f5aa56842df5"
      },
      "b7d91d4c-8728-4a45-a81d-8f6f7a30d70f": {
       "attrs": {
        "height": 0.8,
        "width": 0.8,
        "x": 0.1,
        "y": 0.1
       },
       "content": {
        "cell": "f73da392-ff01-4c93-8c1f-ed7907346c3a",
        "part": "whole"
       },
       "id": "b7d91d4c-8728-4a45-a81d-8f6f7a30d70f"
      }
     }
    },
    "35a28ddb-9cfc-4ba9-8983-544b5cf5f045": {
     "id": "35a28ddb-9cfc-4ba9-8983-544b5cf5f045",
     "prev": "b9f5beae-4e7e-4b75-b526-447c683604fb",
     "regions": {
      "97c3ba7b-ab04-409d-916d-9076313b46c6": {
       "attrs": {
        "height": 0.8,
        "width": 0.8,
        "x": 0.1,
        "y": 0.1
       },
       "content": {
        "cell": "0b313169-1dab-4374-bf13-751c4671f9ae",
        "part": "whole"
       },
       "id": "97c3ba7b-ab04-409d-916d-9076313b46c6"
      }
     }
    },
    "4317bdde-66ad-42d4-b71d-cc6c66035ae1": {
     "id": "4317bdde-66ad-42d4-b71d-cc6c66035ae1",
     "prev": "9cd5ba04-b27b-406b-834b-9a3ef15acc0f",
     "regions": {
      "2c3ff08d-19dc-4753-a323-8453015a96a3": {
       "attrs": {
        "height": 0.8,
        "width": 0.8,
        "x": 0.1,
        "y": 0.1
       },
       "content": {
        "cell": "16ea061f-8cf6-4a36-ad7b-3edb675f9da6",
        "part": "whole"
       },
       "id": "2c3ff08d-19dc-4753-a323-8453015a96a3"
      }
     }
    },
    "46716650-eb64-431e-8554-7fc7229cbdc6": {
     "id": "46716650-eb64-431e-8554-7fc7229cbdc6",
     "prev": "f3e945f0-44b4-4da6-9285-b13b879ecf3f",
     "regions": {
      "5a2b728f-b715-47f7-830b-aecd727c3830": {
       "attrs": {
        "height": 0.8,
        "width": 0.8,
        "x": 0.1,
        "y": 0.1
       },
       "content": {
        "cell": "6b564131-b86d-4581-8536-5350c947a1bd",
        "part": "whole"
       },
       "id": "5a2b728f-b715-47f7-830b-aecd727c3830"
      },
      "5b1d1c7c-00bb-4e96-a14a-d161f8a200a4": {
       "attrs": {
        "height": 0.4,
        "width": 0.8,
        "x": 0.1,
        "y": 0.5
       },
       "content": {
        "cell": "6200a865-bd15-4271-bb5f-b0a68dc69cee",
        "part": "whole"
       },
       "id": "5b1d1c7c-00bb-4e96-a14a-d161f8a200a4"
      }
     }
    },
    "4e12e899-dddd-49bc-9654-a471e6ebd18b": {
     "id": "4e12e899-dddd-49bc-9654-a471e6ebd18b",
     "prev": "f00b574c-bdc6-409c-9379-79fc25d47e24",
     "regions": {
      "925e7e07-f5ce-4c29-a2c6-3d93dbeaec05": {
       "attrs": {
        "height": 0.8,
        "width": 0.8,
        "x": 0.1,
        "y": 0.1
       },
       "content": {
        "cell": "f79ea7f4-a288-439e-b9eb-a630c6077ebd",
        "part": "whole"
       },
       "id": "925e7e07-f5ce-4c29-a2c6-3d93dbeaec05"
      }
     }
    },
    "558c3ebd-89d6-45d4-970d-2573991e123b": {
     "id": "558c3ebd-89d6-45d4-970d-2573991e123b",
     "prev": "db3fcfed-8ef9-4679-827b-8d880ebe61de",
     "regions": {
      "5dfb4ea4-5098-4fe3-a29d-881768df7743": {
       "attrs": {
        "height": 0.8,
        "width": 0.8,
        "x": 0.1,
        "y": 0.1
       },
       "content": {
        "cell": "70e4d1b0-ed57-421f-a956-83f933266497",
        "part": "whole"
       },
       "id": "5dfb4ea4-5098-4fe3-a29d-881768df7743"
      },
      "84e43b62-2e8b-4f76-9d6d-fea440e8c995": {
       "attrs": {
        "height": 0.4,
        "width": 0.8,
        "x": 0.1,
        "y": 0.5
       },
       "content": {
        "cell": "8861861c-1438-4af8-8e18-98b969b052cb",
        "part": "whole"
       },
       "id": "84e43b62-2e8b-4f76-9d6d-fea440e8c995"
      }
     }
    },
    "60c5a9e9-908c-4805-ab64-7d678bb2845e": {
     "id": "60c5a9e9-908c-4805-ab64-7d678bb2845e",
     "prev": "4317bdde-66ad-42d4-b71d-cc6c66035ae1",
     "regions": {
      "ce54d145-73e7-4a87-a361-3ce1c91a47b8": {
       "attrs": {
        "height": 0.8,
        "width": 0.8,
        "x": 0.1,
        "y": 0.1
       },
       "content": {
        "cell": "5b4d3891-7cf2-4c59-ba80-7b8162021449",
        "part": "whole"
       },
       "id": "ce54d145-73e7-4a87-a361-3ce1c91a47b8"
      }
     }
    },
    "6354ac94-fc3c-4b9d-a6e2-73792cf09f79": {
     "id": "6354ac94-fc3c-4b9d-a6e2-73792cf09f79",
     "prev": "4e12e899-dddd-49bc-9654-a471e6ebd18b",
     "regions": {
      "0fd99d62-ecc7-47a7-8210-e285691d926e": {
       "attrs": {
        "height": 0.8,
        "width": 0.8,
        "x": 0.1,
        "y": 0.1
       },
       "content": {
        "cell": "1b0007a2-7a58-46a5-8418-d42b22f17b2d",
        "part": "whole"
       },
       "id": "0fd99d62-ecc7-47a7-8210-e285691d926e"
      },
      "51f90d22-1177-4361-843b-f33063cce610": {
       "attrs": {
        "height": 0.4,
        "width": 0.8,
        "x": 0.1,
        "y": 0.5
       },
       "content": {
        "cell": "126cdda3-4612-48db-820b-1279b1ff8be5",
        "part": "whole"
       },
       "id": "51f90d22-1177-4361-843b-f33063cce610"
      }
     }
    },
    "7b709828-169b-4de0-98d3-fa55431c0175": {
     "id": "7b709828-169b-4de0-98d3-fa55431c0175",
     "prev": "25c8bb83-5817-4ab1-a77d-90168b993235",
     "regions": {
      "cadbae04-1b1e-4a94-8edd-a3dbba7df939": {
       "attrs": {
        "height": 0.8,
        "width": 0.8,
        "x": 0.1,
        "y": 0.1
       },
       "content": {
        "cell": "e08e9d93-db41-41f9-9b2e-c3f95aca6218",
        "part": "whole"
       },
       "id": "cadbae04-1b1e-4a94-8edd-a3dbba7df939"
      }
     }
    },
    "820de2f9-beb4-41f8-af89-3c1c9c425c22": {
     "id": "820de2f9-beb4-41f8-af89-3c1c9c425c22",
     "prev": "7b709828-169b-4de0-98d3-fa55431c0175",
     "regions": {
      "786f562d-657b-4d5b-b73a-7eaea617513b": {
       "attrs": {
        "height": 0.4,
        "width": 0.8,
        "x": 0.1,
        "y": 0.5
       },
       "content": {
        "cell": "e728ed28-5a41-4562-b2d4-732408847d65",
        "part": "whole"
       },
       "id": "786f562d-657b-4d5b-b73a-7eaea617513b"
      },
      "89f84451-0a39-48ca-984d-38c560d39949": {
       "attrs": {
        "height": 0.8,
        "width": 0.8,
        "x": 0.1,
        "y": 0.1
       },
       "content": {
        "cell": "30f70fb2-b0e4-4131-b76c-ea81bd750275",
        "part": "whole"
       },
       "id": "89f84451-0a39-48ca-984d-38c560d39949"
      },
      "8a45e379-9cd8-4e33-87cf-5f6d59ea37bf": {
       "attrs": {
        "height": 0.4,
        "width": 0.8,
        "x": 0.1,
        "y": 0.5
       },
       "content": {
        "cell": "f3e6c068-1bf0-48d2-8c13-8e44f385e0fd",
        "part": "whole"
       },
       "id": "8a45e379-9cd8-4e33-87cf-5f6d59ea37bf"
      }
     }
    },
    "9025b99d-b954-48ee-9381-31212b6b4d8b": {
     "id": "9025b99d-b954-48ee-9381-31212b6b4d8b",
     "prev": "35a28ddb-9cfc-4ba9-8983-544b5cf5f045",
     "regions": {
      "62ad4b35-61ab-4be5-aa0a-32860aa7920c": {
       "attrs": {
        "height": 0.8,
        "width": 0.8,
        "x": 0.1,
        "y": 0.1
       },
       "content": {
        "cell": "38965a5e-f0c2-4eb5-ba77-953161a9516c",
        "part": "whole"
       },
       "id": "62ad4b35-61ab-4be5-aa0a-32860aa7920c"
      },
      "8bd2b4b3-1902-4c4d-a1d0-91a1e9e30266": {
       "attrs": {
        "height": 0.4,
        "width": 0.8,
        "x": 0.1,
        "y": 0.5
       },
       "content": {
        "cell": "f72697cc-45be-4bdc-ba8f-9fc7adf63d9d",
        "part": "whole"
       },
       "id": "8bd2b4b3-1902-4c4d-a1d0-91a1e9e30266"
      }
     }
    },
    "9cd5ba04-b27b-406b-834b-9a3ef15acc0f": {
     "id": "9cd5ba04-b27b-406b-834b-9a3ef15acc0f",
     "prev": "22febf45-f60c-4650-a981-fd68af1c6e74",
     "regions": {
      "d23fe265-d60a-415f-bf57-f45e6b0391fe": {
       "attrs": {
        "height": 0.8,
        "width": 0.8,
        "x": 0.1,
        "y": 0.1
       },
       "content": {
        "cell": "629be706-64ae-4c68-aff4-fc47f839597e",
        "part": "whole"
       },
       "id": "d23fe265-d60a-415f-bf57-f45e6b0391fe"
      },
      "dc31456c-ea62-4f22-b79f-0cb6fc23f0ed": {
       "attrs": {
        "height": 0.4,
        "width": 0.8,
        "x": 0.1,
        "y": 0.5
       },
       "content": {
        "cell": "cf5018d6-7ec6-4bdd-a162-c8e5354e7776",
        "part": "whole"
       },
       "id": "dc31456c-ea62-4f22-b79f-0cb6fc23f0ed"
      }
     }
    },
    "af33f0a5-fd2e-4b48-97e1-bd6393e4c329": {
     "id": "af33f0a5-fd2e-4b48-97e1-bd6393e4c329",
     "prev": "23cf565e-56ce-494e-92c0-ffcee8bc8d4a",
     "regions": {
      "732ee21e-1b18-4451-9fdc-dd34bdad50bd": {
       "attrs": {
        "height": 0.8,
        "width": 0.8,
        "x": 0.1,
        "y": 0.1
       },
       "content": {
        "cell": "3548cf99-6ee5-4437-b67e-8260adc14ac6",
        "part": "whole"
       },
       "id": "732ee21e-1b18-4451-9fdc-dd34bdad50bd"
      },
      "cb166335-583c-4c4e-becd-8dc2b4fcb69e": {
       "attrs": {
        "height": 0.4,
        "width": 0.8,
        "x": 0.1,
        "y": 0.5
       },
       "content": {
        "cell": "72760558-8b54-46c8-8d4c-6ccc24efaf9f",
        "part": "whole"
       },
       "id": "cb166335-583c-4c4e-becd-8dc2b4fcb69e"
      }
     }
    },
    "b9f5beae-4e7e-4b75-b526-447c683604fb": {
     "id": "b9f5beae-4e7e-4b75-b526-447c683604fb",
     "layout": "manual",
     "prev": "c20be96b-eaf8-4010-b178-03de6dec908d",
     "regions": {
      "2a6501a5-8290-4b5f-babc-3bbc9362a7b1": {
       "attrs": {
        "height": 0.3333333333333333,
        "pad": 0.01,
        "treemap:weight": 1,
        "width": 0.25,
        "x": 0,
        "y": 0
       },
       "id": "2a6501a5-8290-4b5f-babc-3bbc9362a7b1"
      },
      "395fabf1-65d7-4322-80e8-df045c12063c": {
       "attrs": {
        "height": 0.25,
        "pad": 0.01,
        "treemap:weight": 1,
        "width": 0.4166666666666667,
        "x": 0,
        "y": 0.75
       },
       "content": {
        "cell": "3af89549-4a72-440b-83a0-119c6e1a221a",
        "part": "whole"
       },
       "id": "395fabf1-65d7-4322-80e8-df045c12063c"
      },
      "4815a688-4c35-4014-b2e2-09385f691e64": {
       "attrs": {
        "height": 0.3333333333333333,
        "pad": 0.01,
        "treemap:weight": 1,
        "width": 0.25,
        "x": 0.4166666666666667,
        "y": 0.3333333333333333
       },
       "content": {
        "cell": "871a0d58-1cb2-4f98-a246-380305f954c8",
        "part": "whole"
       },
       "id": "4815a688-4c35-4014-b2e2-09385f691e64"
      },
      "4a83d292-28c1-4354-a6e4-ae1629e81c06": {
       "attrs": {
        "height": 0.3333333333333333,
        "pad": 0.01,
        "treemap:weight": 1,
        "width": 0.25,
        "x": 0.75,
        "y": 0.3333333333333333
       },
       "content": {
        "cell": "042cd618-e9d9-411d-a672-b831f34b07e3",
        "part": "whole"
       },
       "id": "4a83d292-28c1-4354-a6e4-ae1629e81c06"
      },
      "5830ba0e-a82c-4641-a9a8-0bd89c3adc84": {
       "attrs": {
        "height": 0.3333333333333333,
        "pad": 0.01,
        "treemap:weight": 1,
        "width": 0.25,
        "x": 0.75,
        "y": 0
       },
       "content": {
        "cell": "019b4f8d-b90f-4d15-bb1c-f2e93ecd3c8f",
        "part": "whole"
       },
       "id": "5830ba0e-a82c-4641-a9a8-0bd89c3adc84"
      },
      "5c97d177-ee7d-4d71-9295-f71331663b73": {
       "attrs": {
        "height": 0.25,
        "pad": 0.01,
        "treemap:weight": 1,
        "width": 0.4166666666666667,
        "x": 0,
        "y": 0.5833333333333334
       },
       "content": {
        "cell": "2722d40c-1e5d-4f87-a64f-356aa622adf4",
        "part": "whole"
       },
       "id": "5c97d177-ee7d-4d71-9295-f71331663b73"
      },
      "852caeb9-354d-4d07-bf5f-a144aecf812b": {
       "attrs": {
        "height": 0.3333333333333333,
        "pad": 0.01,
        "treemap:weight": 1,
        "width": 0.25,
        "x": 0.75,
        "y": 0.6666666666666666
       },
       "content": {
        "cell": "0b28a29f-0404-4efa-a3fa-87f87b74b224",
        "part": "whole"
       },
       "id": "852caeb9-354d-4d07-bf5f-a144aecf812b"
      },
      "89819596-0c64-4956-8e22-7bd48ced8a19": {
       "attrs": {
        "height": 0.25,
        "pad": 0.01,
        "treemap:weight": 1,
        "width": 0.4166666666666667,
        "x": 0,
        "y": 0.3333333333333333
       },
       "content": {
        "cell": "8ff076fc-539f-4f99-b1c6-1775c6ff1333",
        "part": "whole"
       },
       "id": "89819596-0c64-4956-8e22-7bd48ced8a19"
      },
      "b3d65c77-5245-4da8-9749-206590d9fe04": {
       "attrs": {
        "height": 0.3333333333333333,
        "pad": 0.01,
        "treemap:weight": 1,
        "width": 0.25,
        "x": 0.25,
        "y": 0
       },
       "id": "b3d65c77-5245-4da8-9749-206590d9fe04"
      },
      "b78bd3ec-1beb-4fd7-9a88-af0cc76f7315": {
       "attrs": {
        "height": 0.3333333333333333,
        "pad": 0.01,
        "treemap:weight": 1,
        "width": 0.25,
        "x": 0.5,
        "y": 0
       },
       "content": {
        "cell": "d41db0ff-1cf0-4b78-a8e4-b2ac79d276ff",
        "part": "whole"
       },
       "id": "b78bd3ec-1beb-4fd7-9a88-af0cc76f7315"
      },
      "d40e064d-e20f-4268-a1f6-bbbcb3cb1d42": {
       "attrs": {
        "height": 0.3333333333333333,
        "pad": 0.01,
        "treemap:weight": 1,
        "width": 0.25,
        "x": 0.4166666666666667,
        "y": 0.6666666666666666
       },
       "content": {
        "cell": "d41db0ff-1cf0-4b78-a8e4-b2ac79d276ff",
        "part": "whole"
       },
       "id": "d40e064d-e20f-4268-a1f6-bbbcb3cb1d42"
      }
     }
    },
    "c20be96b-eaf8-4010-b178-03de6dec908d": {
     "id": "c20be96b-eaf8-4010-b178-03de6dec908d",
     "prev": null,
     "regions": {
      "d852d333-48bc-4e52-9dd4-a22d5385a4c2": {
       "attrs": {
        "height": 0.8,
        "width": 0.8,
        "x": 0.1,
        "y": 0.1
       },
       "content": {
        "cell": "86983066-8cee-4e56-828d-60ae774882a7",
        "part": "whole"
       },
       "id": "d852d333-48bc-4e52-9dd4-a22d5385a4c2"
      }
     }
    },
    "d229d6af-6440-4927-ab6d-dbdba179c858": {
     "id": "d229d6af-6440-4927-ab6d-dbdba179c858",
     "prev": "038b7cae-eeda-4c34-82fa-2764860d62b7",
     "regions": {
      "ad71cf13-a0c1-4ea7-a1d5-c95aca3fccc2": {
       "attrs": {
        "height": 0.8,
        "width": 0.8,
        "x": 0.1,
        "y": 0.1
       },
       "content": {
        "cell": "8e7fd18f-6c55-4ea7-969c-f00e3304a261",
        "part": "whole"
       },
       "id": "ad71cf13-a0c1-4ea7-a1d5-c95aca3fccc2"
      }
     }
    },
    "db3fcfed-8ef9-4679-827b-8d880ebe61de": {
     "id": "db3fcfed-8ef9-4679-827b-8d880ebe61de",
     "prev": "d229d6af-6440-4927-ab6d-dbdba179c858",
     "regions": {
      "55d6a077-13de-4bb5-98ca-13692e797d97": {
       "attrs": {
        "height": 0.8,
        "width": 0.8,
        "x": 0.1,
        "y": 0.1
       },
       "content": {
        "cell": "a61ee1f4-a051-4b66-85e9-a691f3134f25",
        "part": "whole"
       },
       "id": "55d6a077-13de-4bb5-98ca-13692e797d97"
      }
     }
    },
    "ddb8fed1-fb4b-4459-a22c-a6871946ab2e": {
     "id": "ddb8fed1-fb4b-4459-a22c-a6871946ab2e",
     "prev": "46716650-eb64-431e-8554-7fc7229cbdc6",
     "regions": {
      "56adb30b-b62c-43e8-8960-d2c465361c1d": {
       "attrs": {
        "height": 0.8,
        "width": 0.8,
        "x": 0.1,
        "y": 0.1
       },
       "content": {
        "cell": "8b10f739-d976-4fd8-9336-9a4ddfbe7e51",
        "part": "whole"
       },
       "id": "56adb30b-b62c-43e8-8960-d2c465361c1d"
      }
     }
    },
    "e15b81bc-fb7f-418a-ac0a-8423090307be": {
     "id": "e15b81bc-fb7f-418a-ac0a-8423090307be",
     "prev": "9025b99d-b954-48ee-9381-31212b6b4d8b",
     "regions": {
      "3785c07c-a584-4e0a-82b3-d97cc141d7bf": {
       "attrs": {
        "height": 0.8,
        "width": 0.8,
        "x": 0.1,
        "y": 0.1
       },
       "content": {
        "cell": "12e41acf-28fe-4724-a7ec-19393c5040db",
        "part": "whole"
       },
       "id": "3785c07c-a584-4e0a-82b3-d97cc141d7bf"
      }
     }
    },
    "f00b574c-bdc6-409c-9379-79fc25d47e24": {
     "id": "f00b574c-bdc6-409c-9379-79fc25d47e24",
     "prev": "2c2a2253-fb0a-40fe-9af9-c5a392a6fece",
     "regions": {
      "0d743fb0-b0a6-4659-a709-ce5774234b9b": {
       "attrs": {
        "height": 0.4,
        "width": 0.8,
        "x": 0.1,
        "y": 0.5
       },
       "content": {
        "cell": "ab95123f-8c99-4da8-9e9a-74ec3668f0a6",
        "part": "whole"
       },
       "id": "0d743fb0-b0a6-4659-a709-ce5774234b9b"
      },
      "77a1769b-51be-4979-9658-831d2cdc3918": {
       "attrs": {
        "height": 0.4,
        "width": 0.8,
        "x": 0.1,
        "y": 0.5
       },
       "content": {
        "cell": "2973acd4-b189-428a-95b9-5d22ba68fc25",
        "part": "whole"
       },
       "id": "77a1769b-51be-4979-9658-831d2cdc3918"
      },
      "c74f6d02-ea0a-4718-b499-00607dca30b7": {
       "attrs": {
        "height": 0.8,
        "width": 0.8,
        "x": 0.1,
        "y": 0.1
       },
       "content": {
        "cell": "6b0a6478-ec31-47ec-b9dd-e31dc3ea4da7",
        "part": "whole"
       },
       "id": "c74f6d02-ea0a-4718-b499-00607dca30b7"
      }
     }
    },
    "f3e945f0-44b4-4da6-9285-b13b879ecf3f": {
     "id": "f3e945f0-44b4-4da6-9285-b13b879ecf3f",
     "prev": "6354ac94-fc3c-4b9d-a6e2-73792cf09f79",
     "regions": {
      "298333f7-4f8f-40b0-950c-20350e477044": {
       "attrs": {
        "height": 0.8,
        "width": 0.8,
        "x": 0.1,
        "y": 0.1
       },
       "content": {
        "cell": "4e3398b0-8bcf-476a-a1ac-2036d7430b4c",
        "part": "whole"
       },
       "id": "298333f7-4f8f-40b0-950c-20350e477044"
      },
      "2bd25820-6252-4d5e-b078-b55ae86854b4": {
       "attrs": {
        "height": 0.4,
        "width": 0.8,
        "x": 0.1,
        "y": 0.5
       },
       "content": {
        "cell": "a30e4add-9cae-4b0a-99f8-9cabad58094c",
        "part": "whole"
       },
       "id": "2bd25820-6252-4d5e-b078-b55ae86854b4"
      }
     }
    }
   },
   "themes": {
    "default": "00bbd174-6e4c-4f79-ad5f-f8b6a96a607b",
    "theme": {}
   }
  }
 },
 "nbformat": 4,
 "nbformat_minor": 0
}
